{
 "cells": [
  {
   "cell_type": "markdown",
   "metadata": {},
   "source": [
    "# 探索を実際に行う例をipynbで書いてみよう\n",
    "# サンプルの4つに対してはちゃんと動作確認しときたい\n",
    "# あとは自身の研究テーマの分極反転周期関数の同定をやりたい"
   ]
  }
 ],
 "metadata": {
  "language_info": {
   "name": "python"
  }
 },
 "nbformat": 4,
 "nbformat_minor": 2
}
